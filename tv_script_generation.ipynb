{
 "cells": [
  {
   "cell_type": "markdown",
   "metadata": {},
   "source": [
    "# TV Script Generation\n",
    "This project will generate [Simpsons](https://en.wikipedia.org/wiki/The_Simpsons) TV scripts using RNNs.  Part of the [Simpsons dataset](https://www.kaggle.com/wcukierski/the-simpsons-by-the-data) of scripts from 27 seasons are used in this project.  The Neural Network will generate a new TV script for a scene at [Moe's Tavern](https://simpsonswiki.com/wiki/Moe's_Tavern).\n",
    "## Get the Data"
   ]
  },
  {
   "cell_type": "code",
   "execution_count": 1,
   "metadata": {
    "collapsed": true
   },
   "outputs": [],
   "source": [
    "from preprocess import preprocess\n",
    "\n",
    "data_dir = './data/simpsons/moes_tavern_lines.txt'\n",
    "text = preprocess.load_data(data_dir)\n",
    "# Ignore notice, since we don't use it for analysing the data\n",
    "text = text[81:]"
   ]
  },
  {
   "cell_type": "markdown",
   "metadata": {},
   "source": [
    "## Explore the Data\n"
   ]
  },
  {
   "cell_type": "code",
   "execution_count": 2,
   "metadata": {},
   "outputs": [
    {
     "name": "stdout",
     "output_type": "stream",
     "text": [
      "Dataset Stats\n",
      "Roughly the number of unique words: 11492\n",
      "Number of scenes: 262\n",
      "Average number of sentences in each scene: 15.2519083969\n",
      "Number of lines: 4258\n",
      "Average number of words in each line: 11.5016439643\n",
      "()\n",
      "The sentences 0 to 10:\n",
      "\n",
      "Moe_Szyslak: (INTO PHONE) Moe's Tavern. Where the elite meet to drink.\n",
      "Bart_Simpson: Eh, yeah, hello, is Mike there? Last name, Rotch.\n",
      "Moe_Szyslak: (INTO PHONE) Hold on, I'll check. (TO BARFLIES) Mike Rotch. Mike Rotch. Hey, has anybody seen Mike Rotch, lately?\n",
      "Moe_Szyslak: (INTO PHONE) Listen you little puke. One of these days I'm gonna catch you, and I'm gonna carve my name on your back with an ice pick.\n",
      "Moe_Szyslak: What's the matter Homer? You're not your normal effervescent self.\n",
      "Homer_Simpson: I got my problems, Moe. Give me another one.\n",
      "Moe_Szyslak: Homer, hey, you should not drink to forget your problems.\n",
      "Barney_Gumble: Yeah, you should only drink to enhance your social skills.\n",
      "\n"
     ]
    }
   ],
   "source": [
    "view_sentence_range = (0, 10)\n",
    "\n",
    "import numpy as np\n",
    "\n",
    "print('Dataset Stats')\n",
    "print('Roughly the number of unique words: {}'.format(len({word: None for word in text.split()})))\n",
    "scenes = text.split('\\n\\n')\n",
    "print('Number of scenes: {}'.format(len(scenes)))\n",
    "sentence_count_scene = [scene.count('\\n') for scene in scenes]\n",
    "print('Average number of sentences in each scene: {}'.format(np.average(sentence_count_scene)))\n",
    "\n",
    "sentences = [sentence for scene in scenes for sentence in scene.split('\\n')]\n",
    "print('Number of lines: {}'.format(len(sentences)))\n",
    "word_count_sentence = [len(sentence.split()) for sentence in sentences]\n",
    "print('Average number of words in each line: {}'.format(np.average(word_count_sentence)))\n",
    "\n",
    "print()\n",
    "print('The sentences {} to {}:'.format(*view_sentence_range))\n",
    "print('\\n'.join(text.split('\\n')[view_sentence_range[0]:view_sentence_range[1]]))"
   ]
  },
  {
   "cell_type": "markdown",
   "metadata": {},
   "source": [
    "## Implement Preprocessing Functions\n",
    "\n",
    "### Lookup Table"
   ]
  },
  {
   "cell_type": "code",
   "execution_count": 3,
   "metadata": {},
   "outputs": [
    {
     "name": "stdout",
     "output_type": "stream",
     "text": [
      "Tests Passed\n"
     ]
    }
   ],
   "source": [
    "import numpy as np\n",
    "\n",
    "def create_lookup_tables(text):\n",
    "    \"\"\"\n",
    "    Create lookup tables for vocabulary\n",
    "    :param text: The text of tv scripts split into words\n",
    "    :return: A tuple of dicts (vocab_to_int, int_to_vocab)\n",
    "    \"\"\"\n",
    "    vocab_to_int = {word: i for i, word in enumerate(set(text), 0)}\n",
    "    int_to_vocab = {i: word for i, word in enumerate(set(text), 0)}\n",
    "    return vocab_to_int, int_to_vocab"
   ]
  },
  {
   "cell_type": "markdown",
   "metadata": {},
   "source": [
    "### Tokenize Punctuation"
   ]
  },
  {
   "cell_type": "code",
   "execution_count": 4,
   "metadata": {},
   "outputs": [
    {
     "name": "stdout",
     "output_type": "stream",
     "text": [
      "Tests Passed\n"
     ]
    }
   ],
   "source": [
    "def token_lookup():\n",
    "    \"\"\"\n",
    "    Generate a dict to turn punctuation into a token.\n",
    "    :return: Tokenize dictionary where the key is the punctuation and the value is the token\n",
    "    \"\"\"\n",
    "    token_dict = {}\n",
    "    token_dict['.'] = '||Period||'\n",
    "    token_dict[','] = '||Comma||'\n",
    "    token_dict['\"'] = '||Quotation_Mark||'\n",
    "    token_dict[';'] = '||Semicolon||'\n",
    "    token_dict['?'] = '||Question_Mark||'\n",
    "    token_dict['!'] = '||Exclamation_Mark||'\n",
    "    token_dict['('] = '||Left_Parentheses||'\n",
    "    token_dict[')'] = '||Right_Parentheses||'\n",
    "    token_dict['--'] = '||Dash||'\n",
    "    token_dict['\\n'] = '||Return||'\n",
    "    return token_dict"
   ]
  },
  {
   "cell_type": "markdown",
   "metadata": {},
   "source": [
    "## Preprocess all the data and save it\n",
    "Running the code cell below will preprocess all the data and save it to file."
   ]
  },
  {
   "cell_type": "code",
   "execution_count": 5,
   "metadata": {
    "collapsed": true
   },
   "outputs": [],
   "source": [
    "preprocess.preprocess_and_save_data(data_dir, token_lookup, create_lookup_tables)"
   ]
  },
  {
   "cell_type": "markdown",
   "metadata": {},
   "source": [
    "# Check Point"
   ]
  },
  {
   "cell_type": "code",
   "execution_count": 6,
   "metadata": {
    "collapsed": true
   },
   "outputs": [],
   "source": [
    "from preprocess import preprocess\n",
    "import numpy as np\n",
    "import problem_unittests as tests\n",
    "\n",
    "int_text, vocab_to_int, int_to_vocab, token_dict = preprocess.load_preprocess()"
   ]
  },
  {
   "cell_type": "markdown",
   "metadata": {},
   "source": [
    "## Build the Neural Network\n",
    "\n",
    "### Check the Version of TensorFlow and Access to GPU"
   ]
  },
  {
   "cell_type": "code",
   "execution_count": 7,
   "metadata": {},
   "outputs": [
    {
     "name": "stdout",
     "output_type": "stream",
     "text": [
      "TensorFlow Version: 1.0.1\n"
     ]
    },
    {
     "name": "stderr",
     "output_type": "stream",
     "text": [
      "/home/yangzhibo5947/anaconda3/envs/tv/lib/python2.7/site-packages/ipykernel_launcher.py:14: UserWarning: No GPU found. Please use a GPU to train your neural network.\n",
      "  \n"
     ]
    }
   ],
   "source": [
    "from distutils.version import LooseVersion\n",
    "import warnings\n",
    "import tensorflow as tf\n",
    "\n",
    "# Check TensorFlow Version\n",
    "assert LooseVersion(tf.__version__) >= LooseVersion('1.0'), 'Please use TensorFlow version 1.0 or newer'\n",
    "print('TensorFlow Version: {}'.format(tf.__version__))\n",
    "\n",
    "# Check for a GPU\n",
    "if not tf.test.gpu_device_name():\n",
    "    warnings.warn('No GPU found. Please use a GPU to train your neural network.')\n",
    "else:\n",
    "    print('Default GPU Device: {}'.format(tf.test.gpu_device_name()))"
   ]
  },
  {
   "cell_type": "markdown",
   "metadata": {},
   "source": [
    "### Input"
   ]
  },
  {
   "cell_type": "code",
   "execution_count": 8,
   "metadata": {},
   "outputs": [
    {
     "name": "stdout",
     "output_type": "stream",
     "text": [
      "Tests Passed\n"
     ]
    }
   ],
   "source": [
    "def get_inputs():\n",
    "    \"\"\"\n",
    "    Create TF Placeholders for input, targets, and learning rate.\n",
    "    :return: Tuple (input, targets, learning rate)\n",
    "    \"\"\"\n",
    "    Input = tf.placeholder(tf.int32, [None, None], name = 'input')\n",
    "    Targets = tf.placeholder(tf.int32, [None, None], name = 'targets')\n",
    "    LearningRate = tf.placeholder(tf.float32, name = 'learning_rate')\n",
    "    return Input, Targets, LearningRate"
   ]
  },
  {
   "cell_type": "markdown",
   "metadata": {},
   "source": [
    "### Build RNN Cell and Initialize"
   ]
  },
  {
   "cell_type": "code",
   "execution_count": 9,
   "metadata": {},
   "outputs": [
    {
     "name": "stdout",
     "output_type": "stream",
     "text": [
      "Tests Passed\n"
     ]
    }
   ],
   "source": [
    "def get_init_cell(batch_size, rnn_size):\n",
    "    \"\"\"\n",
    "    Create an RNN Cell and initialize it.\n",
    "    :param batch_size: Size of batches\n",
    "    :param rnn_size: Size of RNNs\n",
    "    :return: Tuple (cell, initialize state)\n",
    "    \"\"\"\n",
    "    lstm = tf.contrib.rnn.BasicLSTMCell(rnn_size)\n",
    "    cell = tf.contrib.rnn.DropoutWrapper(lstm, output_keep_prob=0.8)\n",
    "    cell = tf.contrib.rnn.MultiRNNCell([lstm])\n",
    "    initial_state = tf.identity(cell.zero_state(batch_size = batch_size, dtype = tf.float32),\n",
    "                                name = 'initial_state')\n",
    "    return cell, initial_state"
   ]
  },
  {
   "cell_type": "markdown",
   "metadata": {},
   "source": [
    "### Word Embedding\n",
    "Apply embedding to `input_data` using TensorFlow.  Return the embedded sequence."
   ]
  },
  {
   "cell_type": "code",
   "execution_count": 10,
   "metadata": {},
   "outputs": [
    {
     "name": "stdout",
     "output_type": "stream",
     "text": [
      "Tests Passed\n"
     ]
    }
   ],
   "source": [
    "def get_embed(input_data, vocab_size, embed_dim):\n",
    "    \"\"\"\n",
    "    Create embedding for <input_data>.\n",
    "    :param input_data: TF placeholder for text input.\n",
    "    :param vocab_size: Number of words in vocabulary.\n",
    "    :param embed_dim: Number of embedding dimensions\n",
    "    :return: Embedded input.\n",
    "    \"\"\"\n",
    "    embedding = tf.Variable(tf.random_uniform((vocab_size, embed_dim), -1, 1))\n",
    "    embed_input = tf.nn.embedding_lookup(embedding, input_data)\n",
    "    return embed_input"
   ]
  },
  {
   "cell_type": "markdown",
   "metadata": {},
   "source": [
    "### Build RNN"
   ]
  },
  {
   "cell_type": "code",
   "execution_count": 11,
   "metadata": {},
   "outputs": [
    {
     "name": "stdout",
     "output_type": "stream",
     "text": [
      "Tests Passed\n"
     ]
    }
   ],
   "source": [
    "def build_rnn(cell, inputs):\n",
    "    \"\"\"\n",
    "    Create a RNN using a RNN Cell\n",
    "    :param cell: RNN Cell\n",
    "    :param inputs: Input text data\n",
    "    :return: Tuple (Outputs, Final State)\n",
    "    \"\"\"\n",
    "    outputs, state = tf.nn.dynamic_rnn(cell, inputs, dtype=tf.float32)\n",
    "    final_state = tf.identity(state, name='final_state')\n",
    "    return outputs, final_state"
   ]
  },
  {
   "cell_type": "markdown",
   "metadata": {},
   "source": [
    "### Build the Neural Network"
   ]
  },
  {
   "cell_type": "code",
   "execution_count": 12,
   "metadata": {},
   "outputs": [
    {
     "name": "stdout",
     "output_type": "stream",
     "text": [
      "Tests Passed\n"
     ]
    }
   ],
   "source": [
    "def build_nn(cell, rnn_size, input_data, vocab_size, embed_dim):\n",
    "    \"\"\"\n",
    "    Build part of the neural network\n",
    "    :param cell: RNN cell\n",
    "    :param rnn_size: Size of rnns\n",
    "    :param input_data: Input data\n",
    "    :param vocab_size: Vocabulary size\n",
    "    :param embed_dim: Number of embedding dimensions\n",
    "    :return: Tuple (Logits, FinalState)\n",
    "    \"\"\"\n",
    "    embed_input = get_embed(input_data, vocab_size, embed_dim)\n",
    "    outputs, final_state = build_rnn(cell, embed_input)\n",
    "    logits = tf.contrib.layers.fully_connected(activation_fn=None,\n",
    "                                               num_outputs=vocab_size, \n",
    "                                               inputs = outputs)\n",
    "    return logits, final_state"
   ]
  },
  {
   "cell_type": "markdown",
   "metadata": {},
   "source": [
    "### Batches\n",
    "Implement `get_batches` to create batches of input and targets using `int_text`.  The batches should be a Numpy array with the shape `(number of batches, 2, batch size, sequence length)`. Each batch contains two elements:\n",
    "- The first element is a single batch of **input** with the shape `[batch size, sequence length]`\n",
    "- The second element is a single batch of **targets** with the shape `[batch size, sequence length]`\n",
    "\n",
    "If the last batch can't be filled with enough data, drop the last batch.\n",
    "\n",
    "For exmple, `get_batches([1, 2, 3, 4, 5, 6, 7, 8, 9, 10, 11, 12, 13, 14, 15, 16, 17, 18, 19, 20], 3, 2)` would return a Numpy array of the following:\n",
    "```\n",
    "[\n",
    "  # First Batch\n",
    "  [\n",
    "    # Batch of Input\n",
    "    [[ 1  2], [ 7  8], [13 14]]\n",
    "    # Batch of targets\n",
    "    [[ 2  3], [ 8  9], [14 15]]\n",
    "  ]\n",
    "\n",
    "  # Second Batch\n",
    "  [\n",
    "    # Batch of Input\n",
    "    [[ 3  4], [ 9 10], [15 16]]\n",
    "    # Batch of targets\n",
    "    [[ 4  5], [10 11], [16 17]]\n",
    "  ]\n",
    "\n",
    "  # Third Batch\n",
    "  [\n",
    "    # Batch of Input\n",
    "    [[ 5  6], [11 12], [17 18]]\n",
    "    # Batch of targets\n",
    "    [[ 6  7], [12 13], [18  1]]\n",
    "  ]\n",
    "]\n",
    "```\n",
    "\n",
    "Notice that the last target value in the last batch is the first input value of the first batch. In this case, `1`. This is a common technique used when creating sequence batches, although it is rather unintuitive."
   ]
  },
  {
   "cell_type": "code",
   "execution_count": 13,
   "metadata": {},
   "outputs": [
    {
     "name": "stdout",
     "output_type": "stream",
     "text": [
      "Tests Passed\n"
     ]
    }
   ],
   "source": [
    "def get_batches(int_text, batch_size, seq_length):\n",
    "    \"\"\"\n",
    "    Return batches of input and target\n",
    "    :param int_text: Text with the words replaced by their ids\n",
    "    :param batch_size: The size of batch\n",
    "    :param seq_length: The length of sequence\n",
    "    :return: Batches as a Numpy array\n",
    "    \"\"\"\n",
    "    characters_per_batch = seq_length * batch_size\n",
    "    n_batches = len(int_text)//characters_per_batch\n",
    "    \n",
    "    # Keep only enough characters to make full batches\n",
    "    int_text = int_text[:n_batches * characters_per_batch]\n",
    "    int_text = np.array(int_text)\n",
    "    # Reshape into n_seqs rows\n",
    "    int_text = int_text.reshape((batch_size, -1))\n",
    "    batches = []\n",
    "    for n in range(0, int_text.shape[1], seq_length):\n",
    "            # The features\n",
    "            x = int_text[:, n:n+seq_length]\n",
    "            # The targets, shifted by one\n",
    "            y = np.zeros_like(x)\n",
    "            if (n == int_text.shape[1] - seq_length):\n",
    "                y[:, :-1], y[:, -1] = x[:, 1:], x[:, -1] + 1\n",
    "                y[-1, -1] = 0\n",
    "            else:\n",
    "                y[:, :-1], y[:, -1] = x[:, 1:], x[:, -1] + 1\n",
    "    \n",
    "            batch = [x, y]\n",
    "            batches.append(batch)\n",
    "    return np.array(batches)"
   ]
  },
  {
   "cell_type": "markdown",
   "metadata": {},
   "source": [
    "## Neural Network Training\n",
    "### Hyperparameters\n",
    "Tune the following parameters:\n",
    "\n",
    "- Set `num_epochs` to the number of epochs.\n",
    "- Set `batch_size` to the batch size.\n",
    "- Set `rnn_size` to the size of the RNNs.\n",
    "- Set `embed_dim` to the size of the embedding.\n",
    "- Set `seq_length` to the length of sequence.\n",
    "- Set `learning_rate` to the learning rate.\n",
    "- Set `show_every_n_batches` to the number of batches the neural network should print progress."
   ]
  },
  {
   "cell_type": "code",
   "execution_count": 14,
   "metadata": {
    "collapsed": true
   },
   "outputs": [],
   "source": [
    "# Number of Epochs\n",
    "num_epochs = 200\n",
    "# Batch Size\n",
    "batch_size = 128\n",
    "# RNN Size\n",
    "rnn_size = 256\n",
    "# Embedding Dimension Size\n",
    "embed_dim = 25\n",
    "# Sequence Length\n",
    "seq_length = 25\n",
    "# Learning Rate\n",
    "learning_rate = 0.003\n",
    "# Show stats for every n number of batches\n",
    "show_every_n_batches = 50\n",
    "\n",
    "save_dir = './save'"
   ]
  },
  {
   "cell_type": "markdown",
   "metadata": {},
   "source": [
    "### Build the Graph\n",
    "Build the graph using the neural network you implemented."
   ]
  },
  {
   "cell_type": "code",
   "execution_count": 15,
   "metadata": {
    "collapsed": true
   },
   "outputs": [],
   "source": [
    "from tensorflow.contrib import seq2seq\n",
    "\n",
    "train_graph = tf.Graph()\n",
    "with train_graph.as_default():\n",
    "    vocab_size = len(int_to_vocab)\n",
    "    input_text, targets, lr = get_inputs()\n",
    "    input_data_shape = tf.shape(input_text)\n",
    "    cell, initial_state = get_init_cell(input_data_shape[0], rnn_size)\n",
    "    logits, final_state = build_nn(cell, rnn_size, input_text, vocab_size, embed_dim)\n",
    "\n",
    "    # Probabilities for generating words\n",
    "    probs = tf.nn.softmax(logits, name='probs')\n",
    "\n",
    "    # Loss function\n",
    "    cost = seq2seq.sequence_loss(\n",
    "        logits,\n",
    "        targets,\n",
    "        tf.ones([input_data_shape[0], input_data_shape[1]]))\n",
    "\n",
    "    # Optimizer\n",
    "    optimizer = tf.train.AdamOptimizer(lr)\n",
    "\n",
    "    # Gradient Clipping\n",
    "    gradients = optimizer.compute_gradients(cost)\n",
    "    capped_gradients = [(tf.clip_by_value(grad, -1., 1.), var) for grad, var in gradients if grad is not None]\n",
    "    train_op = optimizer.apply_gradients(capped_gradients)"
   ]
  },
  {
   "cell_type": "markdown",
   "metadata": {},
   "source": [
    "## Train\n",
    "Train the neural network on the preprocessed data.  If you have a hard time getting a good loss, check the [forums](https://discussions.udacity.com/) to see if anyone is having the same problem."
   ]
  },
  {
   "cell_type": "code",
   "execution_count": 16,
   "metadata": {},
   "outputs": [
    {
     "name": "stdout",
     "output_type": "stream",
     "text": [
      "Epoch   0 Batch    0/21   train_loss = 8.822\n",
      "Epoch   2 Batch    8/21   train_loss = 6.251\n",
      "Epoch   4 Batch   16/21   train_loss = 5.897\n",
      "Epoch   7 Batch    3/21   train_loss = 5.509\n",
      "Epoch   9 Batch   11/21   train_loss = 5.122\n",
      "Epoch  11 Batch   19/21   train_loss = 4.869\n",
      "Epoch  14 Batch    6/21   train_loss = 4.633\n",
      "Epoch  16 Batch   14/21   train_loss = 4.343\n",
      "Epoch  19 Batch    1/21   train_loss = 4.235\n",
      "Epoch  21 Batch    9/21   train_loss = 4.118\n",
      "Epoch  23 Batch   17/21   train_loss = 3.890\n",
      "Epoch  26 Batch    4/21   train_loss = 3.807\n",
      "Epoch  28 Batch   12/21   train_loss = 3.677\n",
      "Epoch  30 Batch   20/21   train_loss = 3.484\n",
      "Epoch  33 Batch    7/21   train_loss = 3.397\n",
      "Epoch  35 Batch   15/21   train_loss = 3.289\n",
      "Epoch  38 Batch    2/21   train_loss = 3.185\n",
      "Epoch  40 Batch   10/21   train_loss = 3.042\n",
      "Epoch  42 Batch   18/21   train_loss = 2.985\n",
      "Epoch  45 Batch    5/21   train_loss = 2.935\n",
      "Epoch  47 Batch   13/21   train_loss = 2.848\n",
      "Epoch  50 Batch    0/21   train_loss = 2.741\n",
      "Epoch  52 Batch    8/21   train_loss = 2.636\n",
      "Epoch  54 Batch   16/21   train_loss = 2.506\n",
      "Epoch  57 Batch    3/21   train_loss = 2.471\n",
      "Epoch  59 Batch   11/21   train_loss = 2.396\n",
      "Epoch  61 Batch   19/21   train_loss = 2.308\n",
      "Epoch  64 Batch    6/21   train_loss = 2.282\n",
      "Epoch  66 Batch   14/21   train_loss = 2.156\n",
      "Epoch  69 Batch    1/21   train_loss = 2.141\n",
      "Epoch  71 Batch    9/21   train_loss = 2.045\n",
      "Epoch  73 Batch   17/21   train_loss = 2.134\n",
      "Epoch  76 Batch    4/21   train_loss = 2.042\n",
      "Epoch  78 Batch   12/21   train_loss = 2.082\n",
      "Epoch  80 Batch   20/21   train_loss = 1.988\n",
      "Epoch  83 Batch    7/21   train_loss = 1.879\n",
      "Epoch  85 Batch   15/21   train_loss = 1.869\n",
      "Epoch  88 Batch    2/21   train_loss = 1.880\n",
      "Epoch  90 Batch   10/21   train_loss = 1.714\n",
      "Epoch  92 Batch   18/21   train_loss = 1.721\n",
      "Epoch  95 Batch    5/21   train_loss = 1.722\n",
      "Epoch  97 Batch   13/21   train_loss = 1.719\n",
      "Epoch 100 Batch    0/21   train_loss = 1.625\n",
      "Epoch 102 Batch    8/21   train_loss = 1.586\n",
      "Epoch 104 Batch   16/21   train_loss = 1.482\n",
      "Epoch 107 Batch    3/21   train_loss = 1.444\n",
      "Epoch 109 Batch   11/21   train_loss = 1.421\n",
      "Epoch 111 Batch   19/21   train_loss = 1.491\n",
      "Epoch 114 Batch    6/21   train_loss = 1.447\n",
      "Epoch 116 Batch   14/21   train_loss = 1.448\n",
      "Epoch 119 Batch    1/21   train_loss = 1.369\n",
      "Epoch 121 Batch    9/21   train_loss = 1.241\n",
      "Epoch 123 Batch   17/21   train_loss = 1.227\n",
      "Epoch 126 Batch    4/21   train_loss = 1.187\n",
      "Epoch 128 Batch   12/21   train_loss = 1.136\n",
      "Epoch 130 Batch   20/21   train_loss = 1.090\n",
      "Epoch 133 Batch    7/21   train_loss = 1.111\n",
      "Epoch 135 Batch   15/21   train_loss = 1.140\n",
      "Epoch 138 Batch    2/21   train_loss = 1.080\n",
      "Epoch 140 Batch   10/21   train_loss = 1.013\n",
      "Epoch 142 Batch   18/21   train_loss = 1.083\n",
      "Epoch 145 Batch    5/21   train_loss = 1.006\n",
      "Epoch 147 Batch   13/21   train_loss = 1.092\n",
      "Epoch 150 Batch    0/21   train_loss = 1.069\n",
      "Epoch 152 Batch    8/21   train_loss = 0.969\n",
      "Epoch 154 Batch   16/21   train_loss = 0.933\n",
      "Epoch 157 Batch    3/21   train_loss = 0.822\n",
      "Epoch 159 Batch   11/21   train_loss = 0.872\n",
      "Epoch 161 Batch   19/21   train_loss = 0.858\n",
      "Epoch 164 Batch    6/21   train_loss = 0.769\n",
      "Epoch 166 Batch   14/21   train_loss = 0.772\n",
      "Epoch 169 Batch    1/21   train_loss = 0.741\n",
      "Epoch 171 Batch    9/21   train_loss = 0.742\n",
      "Epoch 173 Batch   17/21   train_loss = 0.806\n",
      "Epoch 176 Batch    4/21   train_loss = 0.795\n",
      "Epoch 178 Batch   12/21   train_loss = 0.756\n",
      "Epoch 180 Batch   20/21   train_loss = 0.748\n",
      "Epoch 183 Batch    7/21   train_loss = 0.716\n",
      "Epoch 185 Batch   15/21   train_loss = 0.707\n",
      "Epoch 188 Batch    2/21   train_loss = 0.647\n",
      "Epoch 190 Batch   10/21   train_loss = 0.615\n",
      "Epoch 192 Batch   18/21   train_loss = 0.651\n",
      "Epoch 195 Batch    5/21   train_loss = 0.597\n",
      "Epoch 197 Batch   13/21   train_loss = 0.642\n",
      "Model Trained and Saved\n"
     ]
    }
   ],
   "source": [
    "batches = get_batches(int_text, batch_size, seq_length)\n",
    "\n",
    "with tf.Session(graph=train_graph) as sess:\n",
    "    sess.run(tf.global_variables_initializer())\n",
    "\n",
    "    for epoch_i in range(num_epochs):\n",
    "        state = sess.run(initial_state, {input_text: batches[0][0]})\n",
    "\n",
    "        for batch_i, (x, y) in enumerate(batches):\n",
    "            feed = {\n",
    "                input_text: x,\n",
    "                targets: y,\n",
    "                initial_state: state,\n",
    "                lr: learning_rate}\n",
    "            train_loss, state, _ = sess.run([cost, final_state, train_op], feed)\n",
    "\n",
    "            # Show every <show_every_n_batches> batches\n",
    "            if (epoch_i * len(batches) + batch_i) % show_every_n_batches == 0:\n",
    "                print('Epoch {:>3} Batch {:>4}/{}   train_loss = {:.3f}'.format(\n",
    "                    epoch_i,\n",
    "                    batch_i,\n",
    "                    len(batches),\n",
    "                    train_loss))\n",
    "\n",
    "    # Save Model\n",
    "    saver = tf.train.Saver()\n",
    "    saver.save(sess, save_dir)\n",
    "    print('Model Trained and Saved')"
   ]
  },
  {
   "cell_type": "markdown",
   "metadata": {},
   "source": [
    "## Save Parameters\n",
    "Save `seq_length` and `save_dir` for generating a new TV script."
   ]
  },
  {
   "cell_type": "code",
   "execution_count": 23,
   "metadata": {
    "collapsed": true
   },
   "outputs": [],
   "source": [
    "# Save parameters for checkpoint\n",
    "preprocess.save_params((seq_length, save_dir))"
   ]
  },
  {
   "cell_type": "markdown",
   "metadata": {},
   "source": [
    "# Checkpoint"
   ]
  },
  {
   "cell_type": "code",
   "execution_count": 18,
   "metadata": {
    "collapsed": true
   },
   "outputs": [],
   "source": [
    "import tensorflow as tf\n",
    "import numpy as np\n",
    "import preprocess\n",
    "import problem_unittests as tests\n",
    "\n",
    "_, vocab_to_int, int_to_vocab, token_dict = preprocess.load_preprocess()\n",
    "seq_length, load_dir = preprocess.load_params()"
   ]
  },
  {
   "cell_type": "markdown",
   "metadata": {},
   "source": [
    "## Implement Generate Functions\n",
    "### Get Tensors"
   ]
  },
  {
   "cell_type": "code",
   "execution_count": 19,
   "metadata": {},
   "outputs": [
    {
     "name": "stdout",
     "output_type": "stream",
     "text": [
      "Tests Passed\n"
     ]
    }
   ],
   "source": [
    "def get_tensors(loaded_graph):\n",
    "    \"\"\"\n",
    "    Get input, initial state, final state, and probabilities tensor from <loaded_graph>\n",
    "    :param loaded_graph: TensorFlow graph loaded from file\n",
    "    :return: Tuple (InputTensor, InitialStateTensor, FinalStateTensor, ProbsTensor)\n",
    "    \"\"\"\n",
    "    InputTensor = tf.Graph.get_tensor_by_name(loaded_graph, name='input:0')\n",
    "    InitialStateTensor = tf.Graph.get_tensor_by_name(loaded_graph, name='initial_state:0')\n",
    "    FinalStateTensor = tf.Graph.get_tensor_by_name(loaded_graph, name='final_state:0')\n",
    "    ProbsTensor = tf.Graph.get_tensor_by_name(loaded_graph, name='probs:0')\n",
    "    return InputTensor, InitialStateTensor, FinalStateTensor, ProbsTensor"
   ]
  },
  {
   "cell_type": "markdown",
   "metadata": {},
   "source": [
    "### Choose Word"
   ]
  },
  {
   "cell_type": "code",
   "execution_count": 20,
   "metadata": {},
   "outputs": [
    {
     "name": "stdout",
     "output_type": "stream",
     "text": [
      "Tests Passed\n"
     ]
    }
   ],
   "source": [
    "def pick_word(probabilities, int_to_vocab):\n",
    "    \"\"\"\n",
    "    Pick the next word in the generated text\n",
    "    :param probabilities: Probabilites of the next word\n",
    "    :param int_to_vocab: Dictionary of word ids as the keys and words as the values\n",
    "    :return: String of the predicted word\n",
    "    \"\"\"\n",
    "    return int_to_vocab[np.argmax(probabilities)]"
   ]
  },
  {
   "cell_type": "markdown",
   "metadata": {},
   "source": [
    "## Generate TV Script\n",
    "Set `gen_length` to the length of TV script you want to generate."
   ]
  },
  {
   "cell_type": "code",
   "execution_count": 22,
   "metadata": {},
   "outputs": [
    {
     "name": "stdout",
     "output_type": "stream",
     "text": [
      "moe_szyslak:(sighs) what's the point?... same ol' stinkin' world...(to moe) he seems nice.\n",
      "lisa_simpson: how'd mindless tester's off my this friend is gonna go tsk, tsk, tsk, tsk, tsk, tsk, tsk till broom.\n",
      "carl_carlson: i thought you said chug-monkeys. what beverage, brewed since ancient times, is made from hops and grains?\n",
      "scary him miss_lois_pennycandy:.\n",
      "lenny_leonard: plus his wife was madonna.\n",
      "ned_flanders: what're blessing.(small sob)\n",
      "moe_szyslak: eh, sam: call for the musical in the pledge of allegiance. bugging me.\n",
      "\n",
      "\n",
      "moe_szyslak: hates me, sam: laugh at the musical in the fridge, the man who spews harmony) pope's beers, you just gotta warn you, they must be the ugliest beer and a wad of bills.\n",
      "\n",
      "\n",
      "moe_szyslak: hey, hey, hey, hey! freaky.\n",
      "\n",
      "\n",
      "moe_szyslak:(dumbest glass, sam:) dad?\n",
      "scary him on, sam: lee is walther hotenhoffer and i'm in the pharmaceutical\n"
     ]
    }
   ],
   "source": [
    "gen_length = 200\n",
    "# homer_simpson, moe_szyslak, or Barney_Gumble\n",
    "prime_word = 'moe_szyslak'\n",
    "\n",
    "\n",
    "loaded_graph = tf.Graph()\n",
    "with tf.Session(graph=loaded_graph) as sess:\n",
    "    # Load saved model\n",
    "    loader = tf.train.import_meta_graph(load_dir + '.meta')\n",
    "    loader.restore(sess, load_dir)\n",
    "\n",
    "    # Get Tensors from loaded model\n",
    "    input_text, initial_state, final_state, probs = get_tensors(loaded_graph)\n",
    "\n",
    "    # Sentences generation setup\n",
    "    gen_sentences = [prime_word + ':']\n",
    "    prev_state = sess.run(initial_state, {input_text: np.array([[1]])})\n",
    "\n",
    "    # Generate sentences\n",
    "    for n in range(gen_length):\n",
    "        # Dynamic Input\n",
    "        dyn_input = [[vocab_to_int[word] for word in gen_sentences[-seq_length:]]]\n",
    "        dyn_seq_length = len(dyn_input[0])\n",
    "\n",
    "        # Get Prediction\n",
    "        probabilities, prev_state = sess.run(\n",
    "            [probs, final_state],\n",
    "            {input_text: dyn_input, initial_state: prev_state})\n",
    "        \n",
    "        pred_word = pick_word(probabilities[dyn_seq_length-1], int_to_vocab)\n",
    "\n",
    "        gen_sentences.append(pred_word)\n",
    "    \n",
    "    # Remove tokens\n",
    "    tv_script = ' '.join(gen_sentences)\n",
    "    for key, token in token_dict.items():\n",
    "        ending = ' ' if key in ['\\n', '(', '\"'] else ''\n",
    "        tv_script = tv_script.replace(' ' + token.lower(), key)\n",
    "    tv_script = tv_script.replace('\\n ', '\\n')\n",
    "    tv_script = tv_script.replace('( ', '(')\n",
    "        \n",
    "    print(tv_script)"
   ]
  },
  {
   "cell_type": "markdown",
   "metadata": {},
   "source": [
    "# The TV Script is Nonsensical\n",
    " Luckly there's more data!  As it is mentioned in the begging of this project, this is a subset of the [dataset](https://www.kaggle.com/wcukierski/the-simpsons-by-the-data).  The project didn't train on all the data, because that would take too long.  However, you are free to train the neural network on all the data. "
   ]
  }
 ],
 "metadata": {
  "anaconda-cloud": {},
  "kernelspec": {
   "display_name": "Python 3",
   "language": "python",
   "name": "python3"
  },
  "language_info": {
   "codemirror_mode": {
    "name": "ipython",
    "version": 3
   },
   "file_extension": ".py",
   "mimetype": "text/x-python",
   "name": "python",
   "nbconvert_exporter": "python",
   "pygments_lexer": "ipython3",
   "version": "3.6.5"
  }
 },
 "nbformat": 4,
 "nbformat_minor": 1
}
